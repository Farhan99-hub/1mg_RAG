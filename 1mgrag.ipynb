﻿{
  "nbformat": 4,
  "nbformat_minor": 0,
  "metadata": {
    "colab": {
      "provenance": [],
      "gpuType": "T4"
    },
    "kernelspec": {
      "name": "python3",
      "display_name": "Python 3"
    },
    "language_info": {
      "name": "python"
    },
    "accelerator": "GPU"
  },
  "cells": [
    {
      "cell_type": "code",
      "source": [
        "!pip install langchain langchain-community faiss-cpu sentence-transformers --quiet"
      ],
      "metadata": {
        "collapsed": true,
        "id": "Dw4loRZWN9I4"
      },
      "execution_count": null,
      "outputs": []
    },
    {
      "cell_type": "code",
      "source": [
        "!pip install -U numpy --quiet"
      ],
      "metadata": {
        "collapsed": true,
        "id": "bVKBc4NsZwyU"
      },
      "execution_count": null,
      "outputs": []
    },
    {
      "cell_type": "code",
      "source": [
        "!huggingface-cli login"
      ],
      "metadata": {
        "id": "kqJEDZH-PuLs"
      },
      "execution_count": null,
      "outputs": []
    },
    {
      "cell_type": "code",
      "source": [
        "!pip uninstall sentence-transformers numpy -y"
      ],
      "metadata": {
        "id": "N7JcZzJHhX-Y"
      },
      "execution_count": null,
      "outputs": []
    },
    {
      "cell_type": "code",
      "source": [
        "!pip install sentence-transformers\n",
        "#reinstalling package to sync with installed libraries\n",
        "!pip install --upgrade langchain-community langchain-huggingface"
      ],
      "metadata": {
        "id": "eIv16ZlpaDtd",
        "collapsed": true
      },
      "execution_count": null,
      "outputs": []
    },
    {
      "cell_type": "code",
      "execution_count": 1,
      "metadata": {
        "id": "KeTXqmfdMozS"
      },
      "outputs": [],
      "source": [
        "from langchain.schema import Document\n",
        "from langchain_community.embeddings import HuggingFaceEmbeddings\n",
        "from langchain.vectorstores import FAISS\n",
        "import json"
      ]
    },
    {
      "cell_type": "code",
      "source": [
        "#converting jsonl file into Document\n",
        "with open(\"combined_rag_documents.jsonl\", \"r\", encoding=\"utf-8\") as f:\n",
        "    loaded_data = [json.loads(sentence) for sentence in f]             #using json.loads instead of json.load since the file is jsonl and not json\n",
        "\n",
        "documents_comb = [\n",
        "    Document(page_content=doc[\"page_content\"], metadata=doc[\"metadata\"])\n",
        "    for doc in loaded_data\n",
        "]"
      ],
      "metadata": {
        "id": "Y6PflxhuqAFR"
      },
      "execution_count": 35,
      "outputs": []
    },
    {
      "cell_type": "code",
      "source": [
        "#embedding model\n",
        "embedding_model = HuggingFaceEmbeddings(model_name=\"sentence-transformers/all-MiniLM-L6-v2\")\n",
        "\n",
        "# Embed and store in FAISS\n",
        "vectorstore = FAISS.from_documents(documents_comb, embedding_model)\n",
        "vectorstore.save_local(\"faiss_1mg_index\")"
      ],
      "metadata": {
        "id": "Gs4b9V8DNp4O"
      },
      "execution_count": 37,
      "outputs": []
    },
    {
      "cell_type": "code",
      "source": [
        "vectorstore = FAISS.load_local(\"faiss_1mg_index\", embedding_model, allow_dangerous_deserialization=True)\n",
        "retriever = vectorstore.as_retriever(search_kwargs={\"k\": 2})\n",
        "\n"
      ],
      "metadata": {
        "id": "ObfjBJiuN8Bs"
      },
      "execution_count": 5,
      "outputs": []
    },
    {
      "cell_type": "code",
      "source": [
        "from transformers import pipeline\n",
        "from langchain.llms import HuggingFacePipeline\n",
        "from langchain.chains import RetrievalQA\n",
        "\n",
        "#load gemma-2b\n",
        "llm_pipeline = pipeline(\"text-generation\", model=\"google/gemma-2b\", max_new_tokens=256)\n",
        "llm = HuggingFacePipeline(pipeline=llm_pipeline)"
      ],
      "metadata": {
        "id": "g-7eWGjPPFLM",
        "colab": {
          "base_uri": "https://localhost:8080/",
          "height": 441,
          "referenced_widgets": [
            "0727fb79d528441a9641abe327d5ebbd",
            "6306087f570d4f4493b5fff2a2da36a9",
            "914dde84fba64808befc1844b3bb4276",
            "e310f54c741148b9b756ee2c7ee8834c",
            "778078e50704460c868628045551b95f",
            "ceb919a5d9ac48daade0fcc5698aecc2",
            "3a0d8664070c4ec9a3d396e47f0e29dd",
            "0a8e093e40f54cf896639ef368f0efbc",
            "9571934afca74b92a4a64501ce148b53",
            "b5fb6bd86fc94f8f826045329974760a",
            "e78e997c32d44692aa8c0f677fb9efaf",
            "decd588255904518881e3dd6f3252f0e",
            "ef187d226e1a4d3b9452d4048cdc2b94",
            "a01ae79857054cb3b659af67537d81b0",
            "7853580528da465598bb0f8e3b8a31ab",
            "096a3f209d7141cb9e4879dcddb72a1e",
            "43f09db379804bd4a0f5b435eca8bbd8",
            "0e0190036921455186f51517a4192d04",
            "7eff5fbc89784cc986e231deb1fb251d",
            "9e644757b92640c5b42eeb75d733e162",
            "2e81eb7b2c5744a3b8df0faf447d8e74",
            "99a07be6e8204f878d5ddb8391d0cb9b",
            "0770dd2120ac4022babf435ea041dde6",
            "fd40cd99865641c9a7168069403e7c68",
            "d39c38205f594ec5bd58c8a6105b4afa",
            "6d6b78e37f494395819cb095c971bb10",
            "8d974cd64d11466ebff79fd2a7f2f232",
            "46a9be46429a48b39c698e7bd7120e82",
            "3d9714e4009d4ea08bb56263199e22f4",
            "416f8b4608d5461297fd3529079fde71",
            "d38906536aeb4b3ba836b3d74e3f2206",
            "7293365d6a894ef99e501b643ef8e77e",
            "8899cecab6a54f9abeaf88423f54748f",
            "c611b4592145415694ce77f818e6e4d8",
            "f5aaf2de72cd4268aa0faf860deb4850",
            "941ffb5e9f51427f8ce73cae8a7ecf23",
            "3ab049c6c5d64975aedee79eb6a04206",
            "88461801d19e4149af2294eaf9ed6143",
            "f7952a1fa0454961910fe26b1a274e28",
            "8e86b34ac24b4024aeda72ff10c272ff",
            "3863f3c794934f83848f3bf6d3a4fd17",
            "bc3a0b339a9a4f60bda9550130bd0df6",
            "d484919c099142768648c12ad0c1aa6a",
            "f71ba5fff83941e0914f4c74a4fa6285",
            "0dbff12e6bcf4102af9703dfd045ab76",
            "c70d35cfa2154897b955dae0905b9324",
            "eba9b5eab5e54681b98f3b0316e883ec",
            "4be2a1f4fb36483a97e9e6a843b9c1d3",
            "e0aeabf409184bc580e616bed2d3fea4",
            "643d8fd38ae84f629657a44290d3dd92",
            "2cf3b9ec826d475c8944d6edd258dfb0",
            "99880bc56bc54db29af6ea91290b98e4",
            "23f9362f8cd74cf1ab491cb25c488537",
            "7c1687f47a684f298e9e7f99342db6de",
            "4acb093657914ee68aff436fa52c09ea",
            "80843c24f8a54deea3bf261eec6d5cd6",
            "78c336be59a74ac0b968f18ca77ed14e",
            "f6ba2c4c04f14c7e95b75bb458f4897a",
            "bc8f82c1b1aa4e279b8731ac615f141a",
            "513141babb6f46c5bbdfb932088f39b5",
            "289a478d879c41a2a1d67bb7af1296b9",
            "9a8226c7e4524bcba53beb370986d149",
            "ee87bf585a394b3793fc7062a749642a",
            "4b6964c4c6ba4814a9980e4915154592",
            "9513d48e067147d99e5467d05a32399e",
            "a82786ae8a8741fc9d1147c9bc7efd60",
            "fdc5696088a543e685e5689fdbf19f04",
            "9dc7337f96be4b3f95f2f71c2cef4763",
            "e7ddbb45b80c4e248a717e7b1e35c937",
            "7b432920bf484e1d97d2768d160a8d1d",
            "6ec30e0248ff437987d4894022ed7dfe",
            "63ca6e3aadfd4469b9cb0b7f9f5d31c6",
            "38bb27064254486c8905b0300e3e46bb",
            "a82aaa3aec594cf2a2b588c0c17cae4c",
            "f5692fc141d2461dbe8cb60f814cebc8",
            "e0ae3f2a6303412bae35d5b5abed6da6",
            "570c0ae000fd4e25a0d3effe1be18caa",
            "0a6e6370aa564421b13d022b89452d88",
            "eb138190a129442ab51c32358f4742ec",
            "9014c9a688df4098acfad4dc6e914bba",
            "8d68014bf5f54b528e5c9bc37ba270af",
            "99c99f15f5c14eb7879138623d974713",
            "3ff2b93c472d4050a7a2c7ffdc7db554",
            "946f646036ec4f40b9d8c324ca59315b",
            "b88c0566fca147b2ab17d1bd747076b4",
            "56046fe4e1ad4b5c853047c116cb7c04",
            "b8d1e20ce7274d1f839ec8d1c698e768",
            "56426cbd94fc4858bf158c2010f573d6",
            "87b198fa53864b37a590a8a4e6a9432d",
            "389328386314498f83d318a587a7ad54",
            "819ba4ab699b49cb9f9daaccfa622c75",
            "d96ad74f21444caaa37a86c2c0921bd2",
            "a7bbecf19f0b4d50946676fd52d9f507",
            "1a1078fa9772483380428a3514f648eb",
            "f5ed9a32759449ecb580e19697916b2e",
            "a65d996c71eb4af2a01cabfedc7027e0",
            "93c5b1a28f174c71a42f16889aafce82",
            "c22a29bf028248f2aef20af8544005de",
            "369555d51e6b408da57630510d6a34e1",
            "c37003994270461ca134ef49663a5453",
            "0adfdf5b08cc408fa953c5e755e2acda",
            "1090aa87ee9b481eb77f080b6d97f95e",
            "2ac6652f91634b40bdcc7c1bec782350",
            "9c8b4f8fb14f4c9f8037e19d07d66770",
            "94afeff1038043d8912cb6564feaf793",
            "34cbe63359134755b93a8cbdf3d754dc",
            "9e65777cea084d5d9a1ab4d388c624d3",
            "b91e53a1ab034dfd89a6103f239f482b",
            "32e34b72c98b4d1784ef4327d9db49cb",
            "c255ded71f7949b9b182b4daa7bd8669",
            "1e573cbeb04544a180df3e6309b1e7ec",
            "12ff4e1792234e398c7dda476b707509",
            "b9aa4035ca314ca9abbd9d6aa991e194",
            "21cc034499a244ac96936ae40dd51d9f",
            "d7392dd2b5e14f0c92042ef3a5bb453c",
            "b593b8e8ee884a4e8ba786bdabc0e124",
            "8492e3c28d004144aca38d25535e386b",
            "c03e727b24474fbb86c2936616f35715",
            "f6bd679187fd4297a3c2d773823becc5",
            "b89430dd013b42c488f85d3e55fe9844",
            "6dfd4f0ddff441a1bfca792022654dfc"
          ]
        },
        "outputId": "72e21232-3c30-4ca6-ba85-9036431fa016"
      },
      "execution_count": 6,
      "outputs": [
        {
          "output_type": "display_data",
          "data": {
            "text/plain": [
              "config.json:   0%|          | 0.00/627 [00:00<?, ?B/s]"
            ],
            "application/vnd.jupyter.widget-view+json": {
              "version_major": 2,
              "version_minor": 0,
              "model_id": "0727fb79d528441a9641abe327d5ebbd"
            }
          },
          "metadata": {}
        },
        {
          "output_type": "display_data",
          "data": {
            "text/plain": [
              "model.safetensors.index.json:   0%|          | 0.00/13.5k [00:00<?, ?B/s]"
            ],
            "application/vnd.jupyter.widget-view+json": {
              "version_major": 2,
              "version_minor": 0,
              "model_id": "decd588255904518881e3dd6f3252f0e"
            }
          },
          "metadata": {}
        },
        {
          "output_type": "display_data",
          "data": {
            "text/plain": [
              "Fetching 2 files:   0%|          | 0/2 [00:00<?, ?it/s]"
            ],
            "application/vnd.jupyter.widget-view+json": {
              "version_major": 2,
              "version_minor": 0,
              "model_id": "0770dd2120ac4022babf435ea041dde6"
            }
          },
          "metadata": {}
        },
        {
          "output_type": "display_data",
          "data": {
            "text/plain": [
              "model-00001-of-00002.safetensors:   0%|          | 0.00/4.95G [00:00<?, ?B/s]"
            ],
            "application/vnd.jupyter.widget-view+json": {
              "version_major": 2,
              "version_minor": 0,
              "model_id": "c611b4592145415694ce77f818e6e4d8"
            }
          },
          "metadata": {}
        },
        {
          "output_type": "display_data",
          "data": {
            "text/plain": [
              "model-00002-of-00002.safetensors:   0%|          | 0.00/67.1M [00:00<?, ?B/s]"
            ],
            "application/vnd.jupyter.widget-view+json": {
              "version_major": 2,
              "version_minor": 0,
              "model_id": "0dbff12e6bcf4102af9703dfd045ab76"
            }
          },
          "metadata": {}
        },
        {
          "output_type": "display_data",
          "data": {
            "text/plain": [
              "Loading checkpoint shards:   0%|          | 0/2 [00:00<?, ?it/s]"
            ],
            "application/vnd.jupyter.widget-view+json": {
              "version_major": 2,
              "version_minor": 0,
              "model_id": "80843c24f8a54deea3bf261eec6d5cd6"
            }
          },
          "metadata": {}
        },
        {
          "output_type": "display_data",
          "data": {
            "text/plain": [
              "generation_config.json:   0%|          | 0.00/137 [00:00<?, ?B/s]"
            ],
            "application/vnd.jupyter.widget-view+json": {
              "version_major": 2,
              "version_minor": 0,
              "model_id": "fdc5696088a543e685e5689fdbf19f04"
            }
          },
          "metadata": {}
        },
        {
          "output_type": "display_data",
          "data": {
            "text/plain": [
              "tokenizer_config.json:   0%|          | 0.00/33.6k [00:00<?, ?B/s]"
            ],
            "application/vnd.jupyter.widget-view+json": {
              "version_major": 2,
              "version_minor": 0,
              "model_id": "0a6e6370aa564421b13d022b89452d88"
            }
          },
          "metadata": {}
        },
        {
          "output_type": "display_data",
          "data": {
            "text/plain": [
              "tokenizer.model:   0%|          | 0.00/4.24M [00:00<?, ?B/s]"
            ],
            "application/vnd.jupyter.widget-view+json": {
              "version_major": 2,
              "version_minor": 0,
              "model_id": "87b198fa53864b37a590a8a4e6a9432d"
            }
          },
          "metadata": {}
        },
        {
          "output_type": "display_data",
          "data": {
            "text/plain": [
              "tokenizer.json:   0%|          | 0.00/17.5M [00:00<?, ?B/s]"
            ],
            "application/vnd.jupyter.widget-view+json": {
              "version_major": 2,
              "version_minor": 0,
              "model_id": "c37003994270461ca134ef49663a5453"
            }
          },
          "metadata": {}
        },
        {
          "output_type": "display_data",
          "data": {
            "text/plain": [
              "special_tokens_map.json:   0%|          | 0.00/636 [00:00<?, ?B/s]"
            ],
            "application/vnd.jupyter.widget-view+json": {
              "version_major": 2,
              "version_minor": 0,
              "model_id": "1e573cbeb04544a180df3e6309b1e7ec"
            }
          },
          "metadata": {}
        },
        {
          "output_type": "stream",
          "name": "stderr",
          "text": [
            "Device set to use cuda:0\n",
            "/tmp/ipython-input-6-2643085913.py:7: LangChainDeprecationWarning: The class `HuggingFacePipeline` was deprecated in LangChain 0.0.37 and will be removed in 1.0. An updated version of the class exists in the :class:`~langchain-huggingface package and should be used instead. To use it run `pip install -U :class:`~langchain-huggingface` and import as `from :class:`~langchain_huggingface import HuggingFacePipeline``.\n",
            "  llm = HuggingFacePipeline(pipeline=llm_pipeline)\n"
          ]
        }
      ]
    },
    {
      "cell_type": "code",
      "source": [
        "from langchain.prompts import PromptTemplate\n",
        "\n",
        "#prompt template for accurate retrieval of answers\n",
        "#Strict refining of generated response in order to cure token stuffing and noise.\n",
        "prompt_template = PromptTemplate(\n",
        "    input_variables=[\"context\", \"question\"],\n",
        "    template=\"\"\"\n",
        "You are a medical assistant.\n",
        "\n",
        "Instructions:\n",
        "- Only answer based on the provided context.\n",
        "- Do not copy or repeat the context itself.\n",
        "- Do not add or assume any information not present in the context.\n",
        "- Avoid repeating words or points.\n",
        "- List the symptoms using bullet points ('-').\n",
        "- Do not include disease descriptions or treatments.\n",
        "- If no symptom information is present, respond: \"No answer available in the provided data\".\n",
        "- Keep the answer concise and under 150 words.\n",
        "\n",
        "Context:\n",
        "{context}\n",
        "\n",
        "Question:\n",
        "{question}\n",
        "\n",
        "Answer:\n",
        "\"\"\"\n",
        ")"
      ],
      "metadata": {
        "id": "BVT-6mKxXG0F"
      },
      "execution_count": 28,
      "outputs": []
    },
    {
      "cell_type": "code",
      "source": [
        "qa = RetrievalQA.from_chain_type(\n",
        "    llm=llm,\n",
        "    retriever=retriever,\n",
        "    chain_type=\"stuff\",\n",
        "    chain_type_kwargs={\"prompt\": prompt_template}\n",
        ")"
      ],
      "metadata": {
        "id": "umutpHvCVyRc"
      },
      "execution_count": 29,
      "outputs": []
    },
    {
      "cell_type": "code",
      "source": [
        "import difflib\n",
        "\n",
        "#function to extract the 1st answer\n",
        "def extract_answer(text):\n",
        "    if \"Answer\" in text:\n",
        "        return text.split(\"Answer\", 1)[1].strip()\n",
        "    return text.strip()\n"
      ],
      "metadata": {
        "id": "P8XnIeL2g5B2"
      },
      "execution_count": 31,
      "outputs": []
    },
    {
      "cell_type": "code",
      "source": [
        "query = \"symptoms of Addison's Disease\"\n",
        "answer = qa.run(query)\n",
        "final_answer = extract_answer(answer)\n",
        "\n",
        "#clean probable duplicates\n",
        "#final_answer = clean_similar_bullets(final_answer)\n",
        "\n",
        "print(\"Answer:\", final_answer)"
      ],
      "metadata": {
        "id": "usN6n6chPO4O",
        "colab": {
          "base_uri": "https://localhost:8080/"
        },
        "outputId": "909c603a-9f79-431c-c364-5105dbbd9fbe"
      },
      "execution_count": 32,
      "outputs": [
        {
          "output_type": "stream",
          "name": "stdout",
          "text": [
            "Answer: :\n",
            "- Tiredness and fatigue\n",
            "- Loss of appetite\n",
            "- Craving for salt\n",
            "- Nausea, vomiting\n",
            "- Abdominal pain\n",
            "- Dizziness\n",
            "- Pain in the muscles\n",
            "- Diarrhea\n",
            "- Loss of consciousness\n",
            "- Constipation\n",
            "- Increased pigmentation\n",
            "- Loss of weight\n",
            "- Hypotension (low BP)\n",
            "- Anemia\n",
            "- Vitiligo (a disease that causes loss of skin color in patches).\n",
            "\n",
            "Symptoms of AddisonΓÇÖs Disease are: Tiredness and fatigue Loss of appetite Craving for salt Nausea, vomiting Abdominal pain Dizziness Pain in the muscles Diarrhea Loss of consciousness Constipation Increased pigmentation Loss of weight Hypotension (low BP) Anemia Vitiligo (a disease that causes loss of skin color in patches) Note:** Sometimes the symptoms of AddisonΓÇÖs disease appear suddenly. This is known as the Addisonian crisis. It is a life-threatening situation that results in low blood pressure, low blood levels of sugar, and high blood levels of potassium.\n"
          ]
        }
      ]
    }
  ]
}
